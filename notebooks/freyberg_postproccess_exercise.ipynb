{
 "cells": [
  {
   "cell_type": "markdown",
   "id": "2210735d",
   "metadata": {},
   "source": [
    "# Modflow Post-Proccessing Exercise\n",
    "\n"
   ]
  },
  {
   "cell_type": "markdown",
   "id": "a21d20d3",
   "metadata": {
    "tags": []
   },
   "source": [
    "##### Thank you for taking the time to walk through this MODFLOW exercise with us. \n",
    "##### The purpose is to evaluate your python skills to work with a MODFLOW model (updating packages, manipulating model data, post-processing results)\n",
    "##### You will be using the Freyberg MODFLOW-NWT model located here: `../data/Freyberg_transient`\n",
    "\n",
    "- Assume the model units are in meters and days.\n",
    "- Feel free to clone this repo if that's easier.\n",
    "- Feel free to use online resources to check functions (for example Flopy documentation).\n",
    "- While we care more about correct results than style, if time allows, please make figures look professional."
   ]
  },
  {
   "cell_type": "markdown",
   "id": "c70d2691-e536-42ee-906e-3aa8095e0115",
   "metadata": {},
   "source": [
    "### Importing our python libraries:"
   ]
  },
  {
   "cell_type": "code",
   "execution_count": null,
   "id": "c8105a25",
   "metadata": {},
   "outputs": [],
   "source": [
    "import os\n",
    "import matplotlib.pyplot as plt\n",
    "import pandas as pd\n",
    "import flopy\n",
    "import platform\n",
    "%matplotlib inline "
   ]
  },
  {
   "cell_type": "markdown",
   "id": "f53078e6-4c26-492e-babd-165bc2d00066",
   "metadata": {},
   "source": [
    "### Importing our modflow executable:"
   ]
  },
  {
   "cell_type": "code",
   "execution_count": null,
   "id": "1774aba7",
   "metadata": {},
   "outputs": [],
   "source": [
    "if \"window\" in platform.platform().lower():\n",
    "    mf_exe = os.path.join(\"..\",\"bin\", \"win\",'mfnwt.exe')\n",
    "elif \"linux\" in platform.platform().lower():\n",
    "    mf_exe = os.path.join(\"..\",\"bin\", \"linux\",'mfnwt')\n",
    "elif 'mac'in platform.platform().lower():\n",
    "    mf_exe = os.path.join(\"..\",\"bin\", \"mac\",'mfnwt')\n",
    "mf_exe"
   ]
  },
  {
   "cell_type": "markdown",
   "id": "883bccab-a169-4035-a346-f246539c2a68",
   "metadata": {},
   "source": [
    "### Loading our model using FloPy:"
   ]
  },
  {
   "cell_type": "code",
   "execution_count": null,
   "id": "a432bfe3",
   "metadata": {},
   "outputs": [],
   "source": [
    "model_ws = os.path.join('..','data','Freyberg_transient')\n",
    "mf = flopy.modflow.Modflow.load('freyberg.nam',model_ws=model_ws,version='mfnwt',check=False,exe_name=mf_exe)"
   ]
  },
  {
   "cell_type": "markdown",
   "id": "c96a08a8",
   "metadata": {},
   "source": [
    "### Question 1. Plotting Hydraulic Conductivity\n",
    "\n",
    "Plot a colormap of the hydraulic conductivity in all three model layers. Please show a colorbar and label units.\n",
    "\n",
    "__Hint__: the hydraulic conductivity is stored in the UPW package"
   ]
  },
  {
   "cell_type": "code",
   "execution_count": null,
   "id": "9acfa6cd",
   "metadata": {},
   "outputs": [],
   "source": [
    "nlay = mf.dis.nlay\n",
    "hk = mf.upw.hk.array\n",
    "for lay in range(nlay):\n",
    "    fig, ax = plt.subplots(figsize=(8,6))\n",
    "    ### write your code here\n",
    "\n",
    "    \n",
    "    ax.set_title(f'Hydraulic Conductivity in Layer {lay+1}')\n",
    "    fig.tight_layout()\n",
    "    "
   ]
  },
  {
   "cell_type": "markdown",
   "id": "38faa7a1",
   "metadata": {},
   "source": [
    "### Question 2. Plotting Hydrographs\n",
    "\n",
    "Plot a hydrograph for each well in `df` for the entire model simulation time.\n",
    "\n",
    "__Hint:__ Output heads are stored in the binary file freyberg.hds. Use the flopy function for reading such files - \n",
    "`flopy.utils.HeadFile()`"
   ]
  },
  {
   "cell_type": "code",
   "execution_count": null,
   "id": "f4a267be",
   "metadata": {},
   "outputs": [],
   "source": [
    "# Here is a dataframe of the four wells we're interested in:\n",
    "\n",
    "df = pd.DataFrame({'wellid': ['MW1', 'MW2', 'MW5', 'PW6'],\n",
    "                   'layer': [1, 1, 1, 1],\n",
    "                   'row': [9, 24, 18, 34],\n",
    "                   'column': [9, 7, 16, 12],\n",
    "                   'top_screen':[10,13.5,9.825,-15],\n",
    "                   'bot_screen':[7.5,10,6.425,-20]})\n",
    "\n",
    "df"
   ]
  },
  {
   "cell_type": "code",
   "execution_count": null,
   "id": "5b512aa5",
   "metadata": {},
   "outputs": [],
   "source": [
    "hdsobj = flopy.utils.HeadFile(os.path.join(model_ws,'freyberg.hds'))\n",
    "start_datetime = pd.to_datetime(mf.modeltime.start_datetime)\n",
    "\n",
    "for i, dfrow in df.iterrows():\n",
    "    l, r, c = dfrow['layer'], dfrow['row'], dfrow['column']\n",
    "\n",
    "    fig, ax = plt.subplots(figsize=(8,6))\n",
    "    ### write your code here\n",
    "\n",
    "    \n",
    "    ###\n",
    "    ax.set_title(dfrow['wellid'])\n",
    "    fig.tight_layout()"
   ]
  },
  {
   "cell_type": "markdown",
   "id": "d5559d59",
   "metadata": {},
   "source": [
    "## Question 3A: Modifying a Pumping Well\n",
    "\n",
    "Increase pumping at well __PW6__ by __25%__ for all stress periods by modifying the wellfile and then re-run the model in this directory: `../data/Freyberg_transient_25`\n"
   ]
  },
  {
   "cell_type": "code",
   "execution_count": null,
   "id": "463e13de-68bc-4a50-9703-f2df719029eb",
   "metadata": {},
   "outputs": [],
   "source": [
    "# Well PW6:\n",
    "df.loc[df.wellid == 'PW6']"
   ]
  },
  {
   "cell_type": "code",
   "execution_count": null,
   "id": "15b08020",
   "metadata": {},
   "outputs": [],
   "source": [
    "model_ws2 = os.path.join('..', 'data', 'Freyberg_transient_25') #new model directory\n",
    "mf2 = flopy.modflow.Modflow.load('freyberg.nam',model_ws=model_ws,version='mfnwt',check=False,exe_name=mf_exe)\n",
    "wel = mf2.wel\n",
    "spd = wel.stress_period_data.data\n",
    "spd[0] #an example of what the stress period data looks like "
   ]
  },
  {
   "cell_type": "code",
   "execution_count": null,
   "id": "9006517f",
   "metadata": {},
   "outputs": [],
   "source": [
    "# Hint: modify the wel stress period data (spd) by increaseing the flux by 25% for well PW6\n",
    "\n",
    "nper = mf2.dis.nper\n",
    "for sp in range(nper):\n",
    "    ### write your code here\n",
    "    spd[sp]\n",
    "\n",
    "\n",
    "    ###\n",
    "    \n",
    "wel2 = flopy.modflow.ModflowWel(mf2,stress_period_data=spd,dtype=spd[0].dtype)"
   ]
  },
  {
   "cell_type": "code",
   "execution_count": null,
   "id": "c915cec4",
   "metadata": {},
   "outputs": [],
   "source": [
    "mf2.change_model_ws(model_ws2)\n",
    "mf2.write_input()\n",
    "mf2.run_model()"
   ]
  },
  {
   "cell_type": "markdown",
   "id": "2959f169",
   "metadata": {},
   "source": [
    "## Question 3B: Calculating Drawdown\n",
    "Calculate the drawdown in each well due to the increase in pumping in well __PW6__ (question 3A) and plot it."
   ]
  },
  {
   "cell_type": "code",
   "execution_count": null,
   "id": "e3409766",
   "metadata": {},
   "outputs": [],
   "source": [
    "hdsobj = flopy.utils.HeadFile(os.path.join(model_ws,'freyberg.hds'))\n",
    "hdsobj2 = flopy.utils.HeadFile(os.path.join(model_ws2,'freyberg.hds'))\n",
    "\n",
    "start_datetime = pd.to_datetime(mf.modeltime.start_datetime)\n",
    "for i, dfrow in df.iterrows():\n",
    "    l, r, c = dfrow['layer'], dfrow['row'], dfrow['column']\n",
    "\n",
    "    fig, ax = plt.subplots(figsize=(8,6))\n",
    "    ### write your code here\n",
    "\n",
    "\n",
    "    ###\n",
    "    ax.set_title(f\"Drawdown in {dfrow['wellid']}\")\n",
    "    ax.set_xlim([pd.to_datetime('01/01/2015'),pd.to_datetime('01/01/2016')])\n",
    "    fig.tight_layout()"
   ]
  },
  {
   "cell_type": "code",
   "execution_count": null,
   "id": "65767d1f",
   "metadata": {},
   "outputs": [],
   "source": []
  }
 ],
 "metadata": {
  "kernelspec": {
   "display_name": "Python 3 (ipykernel)",
   "language": "python",
   "name": "python3"
  },
  "language_info": {
   "codemirror_mode": {
    "name": "ipython",
    "version": 3
   },
   "file_extension": ".py",
   "mimetype": "text/x-python",
   "name": "python",
   "nbconvert_exporter": "python",
   "pygments_lexer": "ipython3",
   "version": "3.9.12"
  }
 },
 "nbformat": 4,
 "nbformat_minor": 5
}
