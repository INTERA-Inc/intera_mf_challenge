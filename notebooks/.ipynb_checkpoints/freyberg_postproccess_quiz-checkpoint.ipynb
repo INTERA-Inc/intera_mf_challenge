{
 "cells": [
  {
   "cell_type": "markdown",
   "id": "5e46a786",
   "metadata": {},
   "source": [
    "# Post Proccessing Quiz\n",
    "\n"
   ]
  },
  {
   "cell_type": "code",
   "execution_count": 2,
   "id": "c4b4bbae",
   "metadata": {},
   "outputs": [],
   "source": [
    "import os\n",
    "import matplotlib.pyplot as plt\n",
    "import pandas as pd"
   ]
  },
  {
   "cell_type": "markdown",
   "id": "a343c46c",
   "metadata": {},
   "source": [
    "Use the Freyberg modflow NWT model \"../data/Freyberg_transient\" to answer the following questions\n",
    "\n",
    "Assume the model units are in meters and days \n",
    "\n",
    "Please make figures look as nice and proffesional "
   ]
  },
  {
   "cell_type": "code",
   "execution_count": 4,
   "id": "bd187596",
   "metadata": {},
   "outputs": [],
   "source": [
    "model_ws = os.path.join('..','data','Freyberg_transient')"
   ]
  },
  {
   "cell_type": "markdown",
   "id": "ffc30a5f",
   "metadata": {},
   "source": [
    "## 1. Plot a colormap of the hydraulic conductivity in all three layers\n",
    "\n",
    "Please show a colorbar, and label units\n",
    "\n",
    "hint; the hydraulic conductivity is stored in the UPW package"
   ]
  },
  {
   "cell_type": "code",
   "execution_count": null,
   "id": "d9699a6f",
   "metadata": {},
   "outputs": [],
   "source": [
    "### write script here"
   ]
  },
  {
   "cell_type": "code",
   "execution_count": null,
   "id": "70c0ab3b",
   "metadata": {},
   "outputs": [],
   "source": [
    "2. "
   ]
  }
 ],
 "metadata": {
  "kernelspec": {
   "display_name": "Python 3 (ipykernel)",
   "language": "python",
   "name": "python3"
  },
  "language_info": {
   "codemirror_mode": {
    "name": "ipython",
    "version": 3
   },
   "file_extension": ".py",
   "mimetype": "text/x-python",
   "name": "python",
   "nbconvert_exporter": "python",
   "pygments_lexer": "ipython3",
   "version": "3.9.12"
  }
 },
 "nbformat": 4,
 "nbformat_minor": 5
}
